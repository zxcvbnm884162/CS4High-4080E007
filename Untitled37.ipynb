{
  "nbformat": 4,
  "nbformat_minor": 0,
  "metadata": {
    "colab": {
      "name": "Untitled37.ipynb",
      "provenance": [],
      "include_colab_link": true
    },
    "kernelspec": {
      "name": "python3",
      "display_name": "Python 3"
    }
  },
  "cells": [
    {
      "cell_type": "markdown",
      "metadata": {
        "id": "view-in-github",
        "colab_type": "text"
      },
      "source": [
        "<a href=\"https://colab.research.google.com/github/zxcvbnm884162/CS4High-4080E007/blob/master/Untitled37.ipynb\" target=\"_parent\"><img src=\"https://colab.research.google.com/assets/colab-badge.svg\" alt=\"Open In Colab\"/></a>"
      ]
    },
    {
      "cell_type": "code",
      "metadata": {
        "id": "9r50HkJyBz-H",
        "colab_type": "code",
        "colab": {
          "base_uri": "https://localhost:8080/",
          "height": 34
        },
        "outputId": "ee3508bb-9d2e-40d8-e862-53f43f14f905"
      },
      "source": [
        "first_name = 'Susan'\n",
        "print(first_name)"
      ],
      "execution_count": 1,
      "outputs": [
        {
          "output_type": "stream",
          "text": [
            "Susan\n"
          ],
          "name": "stdout"
        }
      ]
    },
    {
      "cell_type": "code",
      "metadata": {
        "id": "a63RCilyB33v",
        "colab_type": "code",
        "colab": {
          "base_uri": "https://localhost:8080/",
          "height": 51
        },
        "outputId": "07d0719a-5317-4a2f-c90c-e73fd6118c29"
      },
      "source": [
        "first_name = 'Susan'\n",
        "last_name = 'Ibach'\n",
        "print(first_name + last_name)\n",
        "print('Hello ' + first_name + ' ' + last_name)"
      ],
      "execution_count": 2,
      "outputs": [
        {
          "output_type": "stream",
          "text": [
            "SusanIbach\n",
            "Hello Susan Ibach\n"
          ],
          "name": "stdout"
        }
      ]
    },
    {
      "cell_type": "code",
      "metadata": {
        "id": "kNVsIomLB37N",
        "colab_type": "code",
        "colab": {
          "base_uri": "https://localhost:8080/",
          "height": 85
        },
        "outputId": "a0bce244-1603-4a04-fd11-40e11a77e546"
      },
      "source": [
        "sentence = 'The dog is named Sammy'\n",
        "print(sentence.upper())\n",
        "print(sentence.lower())\n",
        "print(sentence.capitalize())\n",
        "print(sentence.count('a'))"
      ],
      "execution_count": 3,
      "outputs": [
        {
          "output_type": "stream",
          "text": [
            "THE DOG IS NAMED SAMMY\n",
            "the dog is named sammy\n",
            "The dog is named sammy\n",
            "2\n"
          ],
          "name": "stdout"
        }
      ]
    },
    {
      "cell_type": "code",
      "metadata": {
        "id": "t81CkfGkB39v",
        "colab_type": "code",
        "colab": {
          "base_uri": "https://localhost:8080/",
          "height": 68
        },
        "outputId": "f03cf0e6-684b-4a15-bc91-14eb863e0630"
      },
      "source": [
        "first_name = input('What is your first name? ')\n",
        "last_name = input('What is your last name? ')\n",
        "print ('Hello ' + first_name.capitalize() + ' ' \\\n",
        "       + last_name.capitalize())"
      ],
      "execution_count": 5,
      "outputs": [
        {
          "output_type": "stream",
          "text": [
            "What is your first name? LEO \n",
            "What is your last name? KEVEN\n",
            "Hello Leo  Keven\n"
          ],
          "name": "stdout"
        }
      ]
    }
  ]
}