{
  "nbformat": 4,
  "nbformat_minor": 0,
  "metadata": {
    "colab": {
      "name": "Untitled2.ipynb",
      "version": "0.3.2",
      "provenance": [],
      "include_colab_link": true
    },
    "kernelspec": {
      "name": "python2",
      "display_name": "Python 2"
    }
  },
  "cells": [
    {
      "cell_type": "markdown",
      "metadata": {
        "id": "view-in-github",
        "colab_type": "text"
      },
      "source": [
        "<a href=\"https://colab.research.google.com/github/zxcvbnm884162/CS4High-4080E007/blob/master/Untitled2.ipynb\" target=\"_parent\"><img src=\"https://colab.research.google.com/assets/colab-badge.svg\" alt=\"Open In Colab\"/></a>"
      ]
    },
    {
      "cell_type": "code",
      "metadata": {
        "id": "dT_nkblBLr8a",
        "colab_type": "code",
        "colab": {
          "base_uri": "https://localhost:8080/",
          "height": 255
        },
        "outputId": "dbe00ebb-1ea1-42d8-9397-2015be148bdb"
      },
      "source": [
        "print(\"　　　　　　*\")\n",
        "print(\"　　　　　 ***\")\n",
        "print(\"　　　　　*****\")\n",
        "print(\"　　　　 *******\")\n",
        "print(\"　　　　*********\")\n",
        "print(\"　　　 ***********\")\n",
        "print(\"　　　*************\")\n",
        "print(\"　　 ***************\")\n",
        "print(\"　  *****************\")\n",
        "print(\"　　　　 　***\")\n",
        "print(\"　　　　　 ***\")\n",
        "print(\"　　　　   ***\")\n",
        "print(\"　　　　 　***\")\n",
        "print(\"　　　　 　***\")\n",
        "\n"
      ],
      "execution_count": 22,
      "outputs": [
        {
          "output_type": "stream",
          "text": [
            "　　　　　　*\n",
            "　　　　　 ***\n",
            "　　　　　*****\n",
            "　　　　 *******\n",
            "　　　　*********\n",
            "　　　 ***********\n",
            "　　　*************\n",
            "　　 ***************\n",
            "　  *****************\n",
            "　　　　 　***\n",
            "　　　　　 ***\n",
            "　　　　   ***\n",
            "　　　　 　***\n",
            "　　　　 　***\n"
          ],
          "name": "stdout"
        }
      ]
    }
  ]
}
