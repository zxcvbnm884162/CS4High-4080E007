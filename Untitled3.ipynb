{
  "nbformat": 4,
  "nbformat_minor": 0,
  "metadata": {
    "colab": {
      "name": "Untitled3.ipynb",
      "version": "0.3.2",
      "provenance": [],
      "include_colab_link": true
    },
    "kernelspec": {
      "name": "python2",
      "display_name": "Python 2"
    }
  },
  "cells": [
    {
      "cell_type": "markdown",
      "metadata": {
        "id": "view-in-github",
        "colab_type": "text"
      },
      "source": [
        "<a href=\"https://colab.research.google.com/github/zxcvbnm884162/CS4High-4080E007/blob/master/Untitled3.ipynb\" target=\"_parent\"><img src=\"https://colab.research.google.com/assets/colab-badge.svg\" alt=\"Open In Colab\"/></a>"
      ]
    },
    {
      "cell_type": "code",
      "metadata": {
        "id": "YJU68AYW5Iiz",
        "colab_type": "code",
        "colab": {
          "base_uri": "https://localhost:8080/",
          "height": 408
        },
        "outputId": "61595b8c-f843-43e7-ac19-d61ed08047c2"
      },
      "source": [
        "print(\"                 *  \")\n",
        "print(\"              * *** *\")\n",
        "print(\"               *****\")\n",
        "print(\"             *   *   *\")\n",
        "print(\"                ***\")\n",
        "print(\"               *****\")\n",
        "print(\"              *******\")\n",
        "print(\"             *********\")\n",
        "print(\"            ***********\")\n",
        "print(\"           *************\")\n",
        "print(\"          ***************\")\n",
        "print(\"         *****************\")\n",
        "print(\"        *******************\")\n",
        "print(\"       *********************\")\n",
        "print(\"      ***********************\")\n",
        "print(\"     *************************\")\n",
        "print(\"                ***\")\n",
        "print(\"                ***\")\n",
        "print(\"                ***\")\n",
        "print(\"                ***\")\n",
        "print(\"                ***\")\n",
        "print(\"                ***\")\n",
        "print(\"                ***\")"
      ],
      "execution_count": 13,
      "outputs": [
        {
          "output_type": "stream",
          "text": [
            "                 *  \n",
            "              * *** *\n",
            "               *****\n",
            "             *   *   *\n",
            "                ***\n",
            "               *****\n",
            "              *******\n",
            "             *********\n",
            "            ***********\n",
            "           *************\n",
            "          ***************\n",
            "         *****************\n",
            "        *******************\n",
            "       *********************\n",
            "      ***********************\n",
            "     *************************\n",
            "                ***\n",
            "                ***\n",
            "                ***\n",
            "                ***\n",
            "                ***\n",
            "                ***\n",
            "                ***\n"
          ],
          "name": "stdout"
        }
      ]
    }
  ]
}