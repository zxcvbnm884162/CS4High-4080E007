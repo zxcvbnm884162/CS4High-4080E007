{
  "nbformat": 4,
  "nbformat_minor": 0,
  "metadata": {
    "colab": {
      "name": "Untitled30.ipynb",
      "provenance": [],
      "include_colab_link": true
    },
    "kernelspec": {
      "name": "python3",
      "display_name": "Python 3"
    }
  },
  "cells": [
    {
      "cell_type": "markdown",
      "metadata": {
        "id": "view-in-github",
        "colab_type": "text"
      },
      "source": [
        "<a href=\"https://colab.research.google.com/github/zxcvbnm884162/CS4High-4080E007/blob/master/MyPython/Working.ipynb\" target=\"_parent\"><img src=\"https://colab.research.google.com/assets/colab-badge.svg\" alt=\"Open In Colab\"/></a>"
      ]
    },
    {
      "cell_type": "code",
      "metadata": {
        "id": "7z_B5wHwdut0",
        "colab_type": "code",
        "colab": {
          "base_uri": "https://localhost:8080/",
          "height": 34
        },
        "outputId": "ef81babc-6193-4bc6-f6c3-bc0d0a8dedb7"
      },
      "source": [
        "pi = 3.14159 #半徑=3.14159\n",
        "print(pi)    #顯示半徑"
      ],
      "execution_count": 1,
      "outputs": [
        {
          "output_type": "stream",
          "text": [
            "3.14159\n"
          ],
          "name": "stdout"
        }
      ]
    },
    {
      "cell_type": "code",
      "metadata": {
        "id": "65nzD744e1Gz",
        "colab_type": "code",
        "colab": {
          "base_uri": "https://localhost:8080/",
          "height": 51
        },
        "outputId": "ea085fab-3e88-4486-c50b-4ad1eae630b1"
      },
      "source": [
        "first_a = 6  # a = 6\n",
        "second_num = 2 # num = 2\n",
        "print(first_a + second_num) # 6 + 2 = 8\n",
        "print(first_a ** second_num) # 6 的 2 次方 = 36 "
      ],
      "execution_count": 19,
      "outputs": [
        {
          "output_type": "stream",
          "text": [
            "8\n",
            "36\n"
          ],
          "name": "stdout"
        }
      ]
    },
    {
      "cell_type": "code",
      "metadata": {
        "id": "VM_8MeUfe1SB",
        "colab_type": "code",
        "colab": {
          "base_uri": "https://localhost:8080/",
          "height": 34
        },
        "outputId": "1387148b-306a-4b6d-9b9d-fe8e7875ddc8"
      },
      "source": [
        "days_in_feb = 28\n",
        "print(str(days_in_feb) + ' days in February')"
      ],
      "execution_count": 8,
      "outputs": [
        {
          "output_type": "stream",
          "text": [
            "28 days in February\n"
          ],
          "name": "stdout"
        }
      ]
    },
    {
      "cell_type": "code",
      "metadata": {
        "id": "fYOwKazFe1bZ",
        "colab_type": "code",
        "colab": {
          "base_uri": "https://localhost:8080/",
          "height": 182
        },
        "outputId": "3cc2d913-69bc-418c-c92c-6ee0940bc499"
      },
      "source": [
        "days_in_feb = 28 #day_in_feb 設 2 月天數 = 28\n",
        "print(days_in_feb + ' days in February') #錯誤程式! 沒有str顯示字串"
      ],
      "execution_count": 4,
      "outputs": [
        {
          "output_type": "error",
          "ename": "TypeError",
          "evalue": "ignored",
          "traceback": [
            "\u001b[0;31m---------------------------------------------------------------------------\u001b[0m",
            "\u001b[0;31mTypeError\u001b[0m                                 Traceback (most recent call last)",
            "\u001b[0;32m<ipython-input-4-e1c5b10563e5>\u001b[0m in \u001b[0;36m<module>\u001b[0;34m()\u001b[0m\n\u001b[1;32m      1\u001b[0m \u001b[0mdays_in_feb\u001b[0m \u001b[0;34m=\u001b[0m \u001b[0;36m28\u001b[0m \u001b[0;31m#day_in_feb 設 2 月天數 = 28\u001b[0m\u001b[0;34m\u001b[0m\u001b[0;34m\u001b[0m\u001b[0m\n\u001b[0;32m----> 2\u001b[0;31m \u001b[0mprint\u001b[0m\u001b[0;34m(\u001b[0m\u001b[0mdays_in_feb\u001b[0m \u001b[0;34m+\u001b[0m \u001b[0;34m' days in February'\u001b[0m\u001b[0;34m)\u001b[0m \u001b[0;31m#錯誤程式! 28+字串\u001b[0m\u001b[0;34m\u001b[0m\u001b[0;34m\u001b[0m\u001b[0m\n\u001b[0m",
            "\u001b[0;31mTypeError\u001b[0m: unsupported operand type(s) for +: 'int' and 'str'"
          ]
        }
      ]
    },
    {
      "cell_type": "code",
      "metadata": {
        "id": "mFJsU8RkgOiR",
        "colab_type": "code",
        "colab": {
          "base_uri": "https://localhost:8080/",
          "height": 34
        },
        "outputId": "8284037d-8d90-46c5-84ba-1ddc03603c4e"
      },
      "source": [
        "a = '5' #a字串=5\n",
        "b = '6' #b字串=6\n",
        "print(a + b) #顯示字串ab值"
      ],
      "execution_count": 13,
      "outputs": [
        {
          "output_type": "stream",
          "text": [
            "56\n"
          ],
          "name": "stdout"
        }
      ]
    },
    {
      "cell_type": "code",
      "metadata": {
        "id": "9iDM9FakgOnh",
        "colab_type": "code",
        "colab": {
          "base_uri": "https://localhost:8080/",
          "height": 68
        },
        "outputId": "bd03b05a-ca98-4364-b704-b2c56cc1795c"
      },
      "source": [
        "first_num = input('Enter first number ')  #第一個字串\n",
        "second_num = input('Enter second number ')#第二個字串\n",
        "print(first_num + second_num)             #顯示字串' '"
      ],
      "execution_count": 17,
      "outputs": [
        {
          "output_type": "stream",
          "text": [
            "Enter first number 5\n",
            "Enter second number 6\n",
            "56\n"
          ],
          "name": "stdout"
        }
      ]
    },
    {
      "cell_type": "code",
      "metadata": {
        "id": "SoP_tGvvhJNK",
        "colab_type": "code",
        "colab": {
          "base_uri": "https://localhost:8080/",
          "height": 85
        },
        "outputId": "38b091bf-d5b6-426f-d008-1c3476a523f3"
      },
      "source": [
        "first_a = input('Enter first number ')  #第一個字串\n",
        "second_a = input('Enter second number ')#第二個字串\n",
        "print(int(first_a) + int(second_b))     #a + b = 11\n",
        "print(float(first_a) + float(second_b)) #a + b = 小數點11.0"
      ],
      "execution_count": 20,
      "outputs": [
        {
          "output_type": "stream",
          "text": [
            "Enter first number 5\n",
            "Enter second number 6\n",
            "11\n",
            "11.0\n"
          ],
          "name": "stdout"
        }
      ]
    }
  ]
}