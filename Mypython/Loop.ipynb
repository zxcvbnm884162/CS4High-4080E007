{
  "nbformat": 4,
  "nbformat_minor": 0,
  "metadata": {
    "colab": {
      "name": "Untitled29.ipynb",
      "provenance": [],
      "include_colab_link": true
    },
    "kernelspec": {
      "name": "python3",
      "display_name": "Python 3"
    }
  },
  "cells": [
    {
      "cell_type": "markdown",
      "metadata": {
        "id": "view-in-github",
        "colab_type": "text"
      },
      "source": [
        "<a href=\"https://colab.research.google.com/github/zxcvbnm884162/CS4High-4080E007/blob/master/Mypython/Loop.ipynb\" target=\"_parent\"><img src=\"https://colab.research.google.com/assets/colab-badge.svg\" alt=\"Open In Colab\"/></a>"
      ]
    },
    {
      "cell_type": "code",
      "metadata": {
        "id": "SJ0IVHM1c6d1",
        "colab_type": "code",
        "colab": {
          "base_uri": "https://localhost:8080/",
          "height": 51
        },
        "outputId": "b7189162-f8ff-4d35-cc56-44146f888d1e"
      },
      "source": [
        "for index in range(0, 2):\n",
        "\tprint(index)\n"
      ],
      "execution_count": 6,
      "outputs": [
        {
          "output_type": "stream",
          "text": [
            "0\n",
            "1\n"
          ],
          "name": "stdout"
        }
      ]
    },
    {
      "cell_type": "code",
      "metadata": {
        "id": "jDL9BU2ua82C",
        "colab_type": "code",
        "colab": {
          "base_uri": "https://localhost:8080/",
          "height": 131
        },
        "outputId": "fad412cd-971f-482c-abbe-25f1af892295"
      },
      "source": [
        "for name in ['Christopher', 'Susan']:\n",
        "print(name)    #無縮排錯誤"
      ],
      "execution_count": 5,
      "outputs": [
        {
          "output_type": "error",
          "ename": "IndentationError",
          "evalue": "ignored",
          "traceback": [
            "\u001b[0;36m  File \u001b[0;32m\"<ipython-input-5-330b1b1a855c>\"\u001b[0;36m, line \u001b[0;32m2\u001b[0m\n\u001b[0;31m    print(name)\u001b[0m\n\u001b[0m        ^\u001b[0m\n\u001b[0;31mIndentationError\u001b[0m\u001b[0;31m:\u001b[0m expected an indented block\n"
          ]
        }
      ]
    },
    {
      "cell_type": "code",
      "metadata": {
        "id": "dsVW1lcEawds",
        "colab_type": "code",
        "colab": {
          "base_uri": "https://localhost:8080/",
          "height": 51
        },
        "outputId": "64092857-086d-43b9-cb84-12e75dd79db8"
      },
      "source": [
        "for name in ['Christopher', 'Susan']:\n",
        "\tprint(name)\n"
      ],
      "execution_count": 4,
      "outputs": [
        {
          "output_type": "stream",
          "text": [
            "Christopher\n",
            "Susan\n"
          ],
          "name": "stdout"
        }
      ]
    },
    {
      "cell_type": "code",
      "metadata": {
        "id": "qsmHJMogXlOn",
        "colab_type": "code",
        "colab": {
          "base_uri": "https://localhost:8080/",
          "height": 51
        },
        "outputId": "6734ea2d-75ca-4bb9-d6a3-61da8bdee854"
      },
      "source": [
        "names = ['Christopher','Susan'] #名子:['Christopher', 'Susan']\n",
        "index = 0 #index=0\n",
        "while index < len(names): #如果index<len(names)這個字串,執行下面程式\n",
        "\tprint(names[index]) #列印\n",
        "\t# Change the condition!!\n",
        "\tindex = index + 1 #迴圈ex: index=0+1 -> 1的值再傳給while在比一次\n"
      ],
      "execution_count": 3,
      "outputs": [
        {
          "output_type": "stream",
          "text": [
            "Christopher\n",
            "Susan\n"
          ],
          "name": "stdout"
        }
      ]
    }
  ]
}